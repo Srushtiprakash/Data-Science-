{
 "cells": [
  {
   "cell_type": "markdown",
   "id": "52a3591b",
   "metadata": {},
   "source": [
    "# For loop\n"
   ]
  },
  {
   "cell_type": "code",
   "execution_count": 6,
   "id": "815b09c8",
   "metadata": {},
   "outputs": [
    {
     "data": {
      "text/plain": [
       "[2, 11, 12, 13, 15]"
      ]
     },
     "execution_count": 6,
     "metadata": {},
     "output_type": "execute_result"
    }
   ],
   "source": [
    "a = [1,10,11,12,14]\n",
    "b = []\n",
    "\n",
    "for i in a:\n",
    "    b.append(i+1)\n",
    "b"
   ]
  },
  {
   "cell_type": "code",
   "execution_count": 7,
   "id": "d0ef09d2",
   "metadata": {},
   "outputs": [
    {
     "data": {
      "text/plain": [
       "45"
      ]
     },
     "execution_count": 7,
     "metadata": {},
     "output_type": "execute_result"
    }
   ],
   "source": [
    "#sum of the numbers of the list\n",
    "l = [1,9,23,12]\n",
    "b = 0\n",
    "for i in l:\n",
    "    b = b + i\n",
    "b\n",
    "    "
   ]
  },
  {
   "cell_type": "code",
   "execution_count": 8,
   "id": "01d85605",
   "metadata": {},
   "outputs": [
    {
     "data": {
      "text/plain": [
       "2484"
      ]
     },
     "execution_count": 8,
     "metadata": {},
     "output_type": "execute_result"
    }
   ],
   "source": [
    "#multiply the numbers in the list\n",
    "l = [1,9,23,12]\n",
    "b = 1\n",
    "for i in l:\n",
    "    b = b * i\n",
    "b"
   ]
  },
  {
   "cell_type": "markdown",
   "id": "c9293266",
   "metadata": {},
   "source": [
    "# if - else condition"
   ]
  },
  {
   "cell_type": "code",
   "execution_count": 10,
   "id": "7b48bfa7",
   "metadata": {},
   "outputs": [
    {
     "name": "stdout",
     "output_type": "stream",
     "text": [
      "yes\n"
     ]
    }
   ],
   "source": [
    "a = 10\n",
    "if a == 10:\n",
    "    print(\"yes\")\n",
    "else:\n",
    "    print(\"no\")"
   ]
  },
  {
   "cell_type": "code",
   "execution_count": 11,
   "id": "29de4e6b",
   "metadata": {},
   "outputs": [
    {
     "name": "stdout",
     "output_type": "stream",
     "text": [
      "a is greater than 10\n"
     ]
    }
   ],
   "source": [
    "a = 12\n",
    "if a > 10:\n",
    "    print(\"a is greater than 10\")\n",
    "elif a > 7:\n",
    "    print(\"a is greater than 7\")\n",
    "else:\n",
    "    print(\"a is smaller than 8\")"
   ]
  },
  {
   "cell_type": "code",
   "execution_count": 25,
   "id": "5ceb7f19",
   "metadata": {},
   "outputs": [
    {
     "name": "stdout",
     "output_type": "stream",
     "text": [
      "[10, 12] [11, 13, 15, 19, 21, 89] [67.3, 90.1]\n"
     ]
    }
   ],
   "source": [
    "l = [10,11,13,15,12,19,21,89, 67.3,90.1]\n",
    "\n",
    "l1 = []\n",
    "l2 = []\n",
    "l3 = []\n",
    "for i in l:\n",
    "    if i%2 == 0:\n",
    "        l1.append(i)\n",
    "    elif i%2 == 1:\n",
    "        l2.append(i)\n",
    "    elif i == float(i):\n",
    "        l3.append(i)\n",
    "print(l1,l2,l3)\n",
    "    "
   ]
  },
  {
   "cell_type": "code",
   "execution_count": 29,
   "id": "c82f484e",
   "metadata": {},
   "outputs": [
    {
     "data": {
      "text/plain": [
       "[1, 5, 25]"
      ]
     },
     "execution_count": 29,
     "metadata": {},
     "output_type": "execute_result"
    }
   ],
   "source": [
    "number = 25\n",
    "b = [] \n",
    "for i in range(1, 1+number):\n",
    "     if number%i ==0:\n",
    "             b.append(i)\n",
    "b\n"
   ]
  },
  {
   "cell_type": "code",
   "execution_count": 30,
   "id": "e6ab375d",
   "metadata": {},
   "outputs": [
    {
     "data": {
      "text/plain": [
       "[1, 3, 5, 15, 823, 2469, 4115, 12345]"
      ]
     },
     "execution_count": 30,
     "metadata": {},
     "output_type": "execute_result"
    }
   ],
   "source": [
    "number = 12345\n",
    "b = []\n",
    "for i in range(1,number+1):\n",
    "    if number%i == 0:\n",
    "        b.append(i)\n",
    "b"
   ]
  },
  {
   "cell_type": "code",
   "execution_count": 76,
   "id": "8a42d760",
   "metadata": {},
   "outputs": [
    {
     "name": "stdout",
     "output_type": "stream",
     "text": [
      "Give a number12342\n",
      "Give a number2244\n"
     ]
    },
    {
     "data": {
      "text/plain": [
       "{1, 2}"
      ]
     },
     "execution_count": 76,
     "metadata": {},
     "output_type": "execute_result"
    }
   ],
   "source": [
    "#common divisors\n",
    "num1 = int(input(\"Give a number1\"))\n",
    "num2 = int(input(\"Give a number2\"))\n",
    "factors1=[]\n",
    "factors2=[]\n",
    "for i in range(1,num1+1):\n",
    "    if num1%i == 0:\n",
    "        factors1.append(i)\n",
    "for i in range (1,num2+1):\n",
    "    if num2%i == 0:\n",
    "        factors2.append(i)\n",
    "fac = set(factors1) & set(factors2)\n",
    "fac   \n"
   ]
  },
  {
   "cell_type": "markdown",
   "id": "b15bdcf7",
   "metadata": {},
   "source": [
    "# Functions"
   ]
  },
  {
   "cell_type": "code",
   "execution_count": 79,
   "id": "972eca33",
   "metadata": {},
   "outputs": [],
   "source": [
    "def get_factors(number):\n",
    "    l=[]\n",
    "    for i in range(1,number+1):\n",
    "        if number%i == 0:\n",
    "            l.append(i)\n",
    "    print(l)"
   ]
  },
  {
   "cell_type": "code",
   "execution_count": 80,
   "id": "ef55ace4",
   "metadata": {},
   "outputs": [
    {
     "name": "stdout",
     "output_type": "stream",
     "text": [
      "[1, 2, 3, 6, 23, 46, 69, 138, 331, 662, 993, 1986, 7613, 15226, 22839, 45678]\n"
     ]
    }
   ],
   "source": [
    "get_factors(45678)"
   ]
  },
  {
   "cell_type": "code",
   "execution_count": 90,
   "id": "eda34536",
   "metadata": {},
   "outputs": [],
   "source": [
    "def prime(number):\n",
    "    l=[]\n",
    "    for i in range(1,number+1):\n",
    "        if number%i == 0:\n",
    "            l.append(i)\n",
    "    if len(l) == 2:\n",
    "        print(\"It is a prime number\")\n",
    "    else:\n",
    "        print(\"It is not a prime number\")"
   ]
  },
  {
   "cell_type": "code",
   "execution_count": 91,
   "id": "eba4737c",
   "metadata": {},
   "outputs": [
    {
     "name": "stdout",
     "output_type": "stream",
     "text": [
      "It is a prime number\n"
     ]
    }
   ],
   "source": [
    "prime(23)"
   ]
  },
  {
   "cell_type": "code",
   "execution_count": 92,
   "id": "4f2f3e4b",
   "metadata": {},
   "outputs": [
    {
     "name": "stdout",
     "output_type": "stream",
     "text": [
      "It is not a prime number\n"
     ]
    }
   ],
   "source": [
    "prime(27)"
   ]
  },
  {
   "cell_type": "code",
   "execution_count": 3,
   "id": "7f55e4b6",
   "metadata": {},
   "outputs": [],
   "source": [
    "\n",
    "def gcd(num1,num2):\n",
    "    factors1=[]\n",
    "    factors2=[]\n",
    "    for i in range(1,num1+1):\n",
    "        if num1%i == 0:\n",
    "            factors1.append(i)\n",
    "    for i in range (1,num2+1):\n",
    "        if num2%i == 0:\n",
    "            factors2.append(i)\n",
    "        \n",
    "    fac = set(factors1) & set(factors2)\n",
    "    return max(fac)\n"
   ]
  },
  {
   "cell_type": "code",
   "execution_count": 4,
   "id": "96173a7b",
   "metadata": {},
   "outputs": [
    {
     "data": {
      "text/plain": [
       "6"
      ]
     },
     "execution_count": 4,
     "metadata": {},
     "output_type": "execute_result"
    }
   ],
   "source": [
    "gcd(24,6)"
   ]
  },
  {
   "cell_type": "code",
   "execution_count": 8,
   "id": "698d13d2",
   "metadata": {},
   "outputs": [],
   "source": [
    "def mul(a=1,b=3):\n",
    "    return a*b"
   ]
  },
  {
   "cell_type": "code",
   "execution_count": 9,
   "id": "c60482f6",
   "metadata": {},
   "outputs": [
    {
     "data": {
      "text/plain": [
       "3"
      ]
     },
     "execution_count": 9,
     "metadata": {},
     "output_type": "execute_result"
    }
   ],
   "source": [
    "mul()"
   ]
  },
  {
   "cell_type": "markdown",
   "id": "523a7ace",
   "metadata": {},
   "source": [
    "# List Comprehension"
   ]
  },
  {
   "cell_type": "code",
   "execution_count": 10,
   "id": "03f353d2",
   "metadata": {},
   "outputs": [],
   "source": [
    "# alternate for for loop"
   ]
  },
  {
   "cell_type": "code",
   "execution_count": 12,
   "id": "698f4468",
   "metadata": {},
   "outputs": [
    {
     "data": {
      "text/plain": [
       "[2, 4, 5, 6, 6]"
      ]
     },
     "execution_count": 12,
     "metadata": {},
     "output_type": "execute_result"
    }
   ],
   "source": [
    "#for loop\n",
    "l = [1,3,4,5,5]\n",
    "l2 = []\n",
    "for i in l:\n",
    "    l2.append(i+1)\n",
    "l2"
   ]
  },
  {
   "cell_type": "code",
   "execution_count": 13,
   "id": "51c3666b",
   "metadata": {},
   "outputs": [],
   "source": [
    "#list comprehension"
   ]
  },
  {
   "cell_type": "code",
   "execution_count": 17,
   "id": "11f10ff2",
   "metadata": {},
   "outputs": [
    {
     "data": {
      "text/plain": [
       "[2, 4, 5, 6, 6]"
      ]
     },
     "execution_count": 17,
     "metadata": {},
     "output_type": "execute_result"
    }
   ],
   "source": [
    "l2 = [i+1 for i in l]\n",
    "l2"
   ]
  },
  {
   "cell_type": "code",
   "execution_count": 3,
   "id": "a474d52b",
   "metadata": {},
   "outputs": [
    {
     "data": {
      "text/plain": [
       "[1, 2, 3, 4, 5, 6, 8, 10, 12, 15, 20, 24, 30, 40, 60, 120]"
      ]
     },
     "execution_count": 3,
     "metadata": {},
     "output_type": "execute_result"
    }
   ],
   "source": [
    "number = 120\n",
    "factors = [i for i in range(1,number+1) if number%i == 0]\n",
    "factors"
   ]
  },
  {
   "cell_type": "code",
   "execution_count": null,
   "id": "3cf48675",
   "metadata": {},
   "outputs": [],
   "source": []
  },
  {
   "cell_type": "code",
   "execution_count": 12,
   "id": "bbc9ca35",
   "metadata": {},
   "outputs": [
    {
     "data": {
      "text/plain": [
       "[2, 3, 5, 7, 11, 13, 17, 19]"
      ]
     },
     "execution_count": 12,
     "metadata": {},
     "output_type": "execute_result"
    }
   ],
   "source": [
    "#To find the prime numbers\n",
    "[x for x in range(2, 20)\n",
    "     if all(x % y != 0 for y in range(2, x))]"
   ]
  },
  {
   "cell_type": "code",
   "execution_count": 14,
   "id": "08559de1",
   "metadata": {
    "collapsed": true
   },
   "outputs": [
    {
     "data": {
      "text/plain": [
       "[8,\n",
       " 16,\n",
       " 24,\n",
       " 32,\n",
       " 40,\n",
       " 48,\n",
       " 56,\n",
       " 64,\n",
       " 72,\n",
       " 80,\n",
       " 88,\n",
       " 96,\n",
       " 104,\n",
       " 112,\n",
       " 120,\n",
       " 128,\n",
       " 136,\n",
       " 144,\n",
       " 152,\n",
       " 160,\n",
       " 168,\n",
       " 176,\n",
       " 184,\n",
       " 192,\n",
       " 200,\n",
       " 208,\n",
       " 216,\n",
       " 224,\n",
       " 232,\n",
       " 240,\n",
       " 248,\n",
       " 256,\n",
       " 264,\n",
       " 272,\n",
       " 280,\n",
       " 288,\n",
       " 296,\n",
       " 304,\n",
       " 312,\n",
       " 320,\n",
       " 328,\n",
       " 336,\n",
       " 344,\n",
       " 352,\n",
       " 360,\n",
       " 368,\n",
       " 376,\n",
       " 384,\n",
       " 392,\n",
       " 400,\n",
       " 408,\n",
       " 416,\n",
       " 424,\n",
       " 432,\n",
       " 440,\n",
       " 448,\n",
       " 456,\n",
       " 464,\n",
       " 472,\n",
       " 480,\n",
       " 488,\n",
       " 496,\n",
       " 504,\n",
       " 512,\n",
       " 520,\n",
       " 528,\n",
       " 536,\n",
       " 544,\n",
       " 552,\n",
       " 560,\n",
       " 568,\n",
       " 576,\n",
       " 584,\n",
       " 592,\n",
       " 600,\n",
       " 608,\n",
       " 616,\n",
       " 624,\n",
       " 632,\n",
       " 640,\n",
       " 648,\n",
       " 656,\n",
       " 664,\n",
       " 672,\n",
       " 680,\n",
       " 688,\n",
       " 696,\n",
       " 704,\n",
       " 712,\n",
       " 720,\n",
       " 728,\n",
       " 736,\n",
       " 744,\n",
       " 752,\n",
       " 760,\n",
       " 768,\n",
       " 776,\n",
       " 784,\n",
       " 792,\n",
       " 800,\n",
       " 808,\n",
       " 816,\n",
       " 824,\n",
       " 832,\n",
       " 840,\n",
       " 848,\n",
       " 856,\n",
       " 864,\n",
       " 872,\n",
       " 880,\n",
       " 888,\n",
       " 896,\n",
       " 904,\n",
       " 912,\n",
       " 920,\n",
       " 928,\n",
       " 936,\n",
       " 944,\n",
       " 952,\n",
       " 960,\n",
       " 968,\n",
       " 976,\n",
       " 984,\n",
       " 992,\n",
       " 1000]"
      ]
     },
     "execution_count": 14,
     "metadata": {},
     "output_type": "execute_result"
    }
   ],
   "source": [
    "#find all the numbers that are divisible by 8 in the rang 1-1000\n",
    "numbers = [i for i in range (1,1001) if i%8 == 0]\n",
    "numbers"
   ]
  },
  {
   "cell_type": "code",
   "execution_count": 18,
   "id": "0201d6b1",
   "metadata": {
    "collapsed": true
   },
   "outputs": [
    {
     "data": {
      "text/plain": [
       "[6,\n",
       " 16,\n",
       " 26,\n",
       " 36,\n",
       " 46,\n",
       " 56,\n",
       " 60,\n",
       " 61,\n",
       " 62,\n",
       " 63,\n",
       " 64,\n",
       " 65,\n",
       " 66,\n",
       " 67,\n",
       " 68,\n",
       " 69,\n",
       " 76,\n",
       " 86,\n",
       " 96,\n",
       " 106,\n",
       " 116,\n",
       " 126,\n",
       " 136,\n",
       " 146,\n",
       " 156,\n",
       " 160,\n",
       " 161,\n",
       " 162,\n",
       " 163,\n",
       " 164,\n",
       " 165,\n",
       " 166,\n",
       " 167,\n",
       " 168,\n",
       " 169,\n",
       " 176,\n",
       " 186,\n",
       " 196,\n",
       " 206,\n",
       " 216,\n",
       " 226,\n",
       " 236,\n",
       " 246,\n",
       " 256,\n",
       " 260,\n",
       " 261,\n",
       " 262,\n",
       " 263,\n",
       " 264,\n",
       " 265,\n",
       " 266,\n",
       " 267,\n",
       " 268,\n",
       " 269,\n",
       " 276,\n",
       " 286,\n",
       " 296,\n",
       " 306,\n",
       " 316,\n",
       " 326,\n",
       " 336,\n",
       " 346,\n",
       " 356,\n",
       " 360,\n",
       " 361,\n",
       " 362,\n",
       " 363,\n",
       " 364,\n",
       " 365,\n",
       " 366,\n",
       " 367,\n",
       " 368,\n",
       " 369,\n",
       " 376,\n",
       " 386,\n",
       " 396,\n",
       " 406,\n",
       " 416,\n",
       " 426,\n",
       " 436,\n",
       " 446,\n",
       " 456,\n",
       " 460,\n",
       " 461,\n",
       " 462,\n",
       " 463,\n",
       " 464,\n",
       " 465,\n",
       " 466,\n",
       " 467,\n",
       " 468,\n",
       " 469,\n",
       " 476,\n",
       " 486,\n",
       " 496,\n",
       " 506,\n",
       " 516,\n",
       " 526,\n",
       " 536,\n",
       " 546,\n",
       " 556,\n",
       " 560,\n",
       " 561,\n",
       " 562,\n",
       " 563,\n",
       " 564,\n",
       " 565,\n",
       " 566,\n",
       " 567,\n",
       " 568,\n",
       " 569,\n",
       " 576,\n",
       " 586,\n",
       " 596,\n",
       " 600,\n",
       " 601,\n",
       " 602,\n",
       " 603,\n",
       " 604,\n",
       " 605,\n",
       " 606,\n",
       " 607,\n",
       " 608,\n",
       " 609,\n",
       " 610,\n",
       " 611,\n",
       " 612,\n",
       " 613,\n",
       " 614,\n",
       " 615,\n",
       " 616,\n",
       " 617,\n",
       " 618,\n",
       " 619,\n",
       " 620,\n",
       " 621,\n",
       " 622,\n",
       " 623,\n",
       " 624,\n",
       " 625,\n",
       " 626,\n",
       " 627,\n",
       " 628,\n",
       " 629,\n",
       " 630,\n",
       " 631,\n",
       " 632,\n",
       " 633,\n",
       " 634,\n",
       " 635,\n",
       " 636,\n",
       " 637,\n",
       " 638,\n",
       " 639,\n",
       " 640,\n",
       " 641,\n",
       " 642,\n",
       " 643,\n",
       " 644,\n",
       " 645,\n",
       " 646,\n",
       " 647,\n",
       " 648,\n",
       " 649,\n",
       " 650,\n",
       " 651,\n",
       " 652,\n",
       " 653,\n",
       " 654,\n",
       " 655,\n",
       " 656,\n",
       " 657,\n",
       " 658,\n",
       " 659,\n",
       " 660,\n",
       " 661,\n",
       " 662,\n",
       " 663,\n",
       " 664,\n",
       " 665,\n",
       " 666,\n",
       " 667,\n",
       " 668,\n",
       " 669,\n",
       " 670,\n",
       " 671,\n",
       " 672,\n",
       " 673,\n",
       " 674,\n",
       " 675,\n",
       " 676,\n",
       " 677,\n",
       " 678,\n",
       " 679,\n",
       " 680,\n",
       " 681,\n",
       " 682,\n",
       " 683,\n",
       " 684,\n",
       " 685,\n",
       " 686,\n",
       " 687,\n",
       " 688,\n",
       " 689,\n",
       " 690,\n",
       " 691,\n",
       " 692,\n",
       " 693,\n",
       " 694,\n",
       " 695,\n",
       " 696,\n",
       " 697,\n",
       " 698,\n",
       " 699,\n",
       " 706,\n",
       " 716,\n",
       " 726,\n",
       " 736,\n",
       " 746,\n",
       " 756,\n",
       " 760,\n",
       " 761,\n",
       " 762,\n",
       " 763,\n",
       " 764,\n",
       " 765,\n",
       " 766,\n",
       " 767,\n",
       " 768,\n",
       " 769,\n",
       " 776,\n",
       " 786,\n",
       " 796,\n",
       " 806,\n",
       " 816,\n",
       " 826,\n",
       " 836,\n",
       " 846,\n",
       " 856,\n",
       " 860,\n",
       " 861,\n",
       " 862,\n",
       " 863,\n",
       " 864,\n",
       " 865,\n",
       " 866,\n",
       " 867,\n",
       " 868,\n",
       " 869,\n",
       " 876,\n",
       " 886,\n",
       " 896,\n",
       " 906,\n",
       " 916,\n",
       " 926,\n",
       " 936,\n",
       " 946,\n",
       " 956,\n",
       " 960,\n",
       " 961,\n",
       " 962,\n",
       " 963,\n",
       " 964,\n",
       " 965,\n",
       " 966,\n",
       " 967,\n",
       " 968,\n",
       " 969,\n",
       " 976,\n",
       " 986,\n",
       " 996]"
      ]
     },
     "execution_count": 18,
     "metadata": {},
     "output_type": "execute_result"
    }
   ],
   "source": [
    "#Find all of the numbers from 1–1000 that have a 6 in them\n",
    "number_6 = [i for i in range(1,1001) if \"6\" in str(i)]\n",
    "number_6"
   ]
  },
  {
   "cell_type": "code",
   "execution_count": 25,
   "id": "fd945a68",
   "metadata": {},
   "outputs": [
    {
     "data": {
      "text/plain": [
       "8"
      ]
     },
     "execution_count": 25,
     "metadata": {},
     "output_type": "execute_result"
    }
   ],
   "source": [
    "#Count the number of spaces in a string\n",
    "string = \"Practice Problems to Drill List Comprehension in Your Head.\"\n",
    "count_space = len([i for i in string if i == \" \"])\n",
    "count_space"
   ]
  },
  {
   "cell_type": "code",
   "execution_count": 33,
   "id": "68d6d07a",
   "metadata": {},
   "outputs": [
    {
     "data": {
      "text/plain": [
       "'Prctc Prblms t Drll Lst Cmprhnsn n Yr Hd.'"
      ]
     },
     "execution_count": 33,
     "metadata": {},
     "output_type": "execute_result"
    }
   ],
   "source": [
    "#Remove all of the vowels in a string\n",
    "string = \"Practice Problems to Drill List Comprehension in Your Head.\"\n",
    "remove_vowels = \"\".join([i for i in string if i not in [\"a\",\"e\",\"i\",\"o\",\"u\"]])\n",
    "remove_vowels"
   ]
  },
  {
   "cell_type": "code",
   "execution_count": 45,
   "id": "3a289320",
   "metadata": {},
   "outputs": [
    {
     "data": {
      "text/plain": [
       "['to', 'List', 'in', 'Your']"
      ]
     },
     "execution_count": 45,
     "metadata": {},
     "output_type": "execute_result"
    }
   ],
   "source": [
    "string = \"Practice Problems to Drill List Comprehension in Your Head.\"\n",
    "word = string.split(\" \")\n",
    "char_less_than_5 = [i for i in word if len(i) < 5]\n",
    "char_less_than_5"
   ]
  },
  {
   "cell_type": "markdown",
   "id": "55424cbb",
   "metadata": {},
   "source": [
    "# Lambda"
   ]
  },
  {
   "cell_type": "code",
   "execution_count": 1,
   "id": "940de71a",
   "metadata": {},
   "outputs": [],
   "source": [
    "#alternative for existing function"
   ]
  },
  {
   "cell_type": "code",
   "execution_count": 2,
   "id": "82ab1cf3",
   "metadata": {},
   "outputs": [],
   "source": [
    "def fun(x):\n",
    "    return x**2"
   ]
  },
  {
   "cell_type": "code",
   "execution_count": 3,
   "id": "f3be13c6",
   "metadata": {},
   "outputs": [],
   "source": [
    "fun = lambda x : x**2"
   ]
  },
  {
   "cell_type": "code",
   "execution_count": 11,
   "id": "1a730405",
   "metadata": {},
   "outputs": [
    {
     "data": {
      "text/plain": [
       "25"
      ]
     },
     "execution_count": 11,
     "metadata": {},
     "output_type": "execute_result"
    }
   ],
   "source": [
    "fun(5)"
   ]
  },
  {
   "cell_type": "code",
   "execution_count": 5,
   "id": "6b144f43",
   "metadata": {},
   "outputs": [],
   "source": [
    "even_or_odd = lambda x : x%2 == 0"
   ]
  },
  {
   "cell_type": "code",
   "execution_count": 6,
   "id": "b303b72b",
   "metadata": {},
   "outputs": [
    {
     "data": {
      "text/plain": [
       "True"
      ]
     },
     "execution_count": 6,
     "metadata": {},
     "output_type": "execute_result"
    }
   ],
   "source": [
    "even_or_odd(46)"
   ]
  },
  {
   "cell_type": "code",
   "execution_count": 9,
   "id": "481b92cc",
   "metadata": {},
   "outputs": [],
   "source": [
    "multiplication = lambda x,y: x*y"
   ]
  },
  {
   "cell_type": "code",
   "execution_count": 10,
   "id": "3285c599",
   "metadata": {},
   "outputs": [
    {
     "data": {
      "text/plain": [
       "6"
      ]
     },
     "execution_count": 10,
     "metadata": {},
     "output_type": "execute_result"
    }
   ],
   "source": [
    "multiplication(2,3)"
   ]
  },
  {
   "cell_type": "code",
   "execution_count": 16,
   "id": "28ccea2c",
   "metadata": {},
   "outputs": [],
   "source": [
    "get_factors = lambda x: [i for i in range (1,x+1) if x%i==0]"
   ]
  },
  {
   "cell_type": "code",
   "execution_count": 17,
   "id": "e383d937",
   "metadata": {},
   "outputs": [
    {
     "data": {
      "text/plain": [
       "[1, 2, 4, 8, 16, 32, 64]"
      ]
     },
     "execution_count": 17,
     "metadata": {},
     "output_type": "execute_result"
    }
   ],
   "source": [
    "get_factors(64)"
   ]
  },
  {
   "cell_type": "code",
   "execution_count": 29,
   "id": "1264a67a",
   "metadata": {},
   "outputs": [],
   "source": [
    "get_common_factors = lambda x,y : [i for i in range(1,min(x,y)+1) if x%i == 0 and y%i == 0]"
   ]
  },
  {
   "cell_type": "code",
   "execution_count": 30,
   "id": "88fe15f3",
   "metadata": {},
   "outputs": [
    {
     "data": {
      "text/plain": [
       "[1, 2]"
      ]
     },
     "execution_count": 30,
     "metadata": {},
     "output_type": "execute_result"
    }
   ],
   "source": [
    "get_common_factors(38,54)"
   ]
  },
  {
   "cell_type": "code",
   "execution_count": 41,
   "id": "ce1841a6",
   "metadata": {},
   "outputs": [],
   "source": [
    "greatest_common_divisor = lambda x,y : max([i for i in range(1,min(x,y)+1) if x%i == 0 and y%i == 0])"
   ]
  },
  {
   "cell_type": "code",
   "execution_count": 42,
   "id": "230b6645",
   "metadata": {},
   "outputs": [
    {
     "data": {
      "text/plain": [
       "13"
      ]
     },
     "execution_count": 42,
     "metadata": {},
     "output_type": "execute_result"
    }
   ],
   "source": [
    "greatest_common_divisor(26,39)"
   ]
  },
  {
   "cell_type": "code",
   "execution_count": 47,
   "id": "334c2505",
   "metadata": {},
   "outputs": [],
   "source": [
    "prime_number = lambda x: len([i for i in range(1,x+1) if x%i==0])==2"
   ]
  },
  {
   "cell_type": "code",
   "execution_count": 48,
   "id": "1ed2fcdb",
   "metadata": {},
   "outputs": [
    {
     "data": {
      "text/plain": [
       "True"
      ]
     },
     "execution_count": 48,
     "metadata": {},
     "output_type": "execute_result"
    }
   ],
   "source": [
    "prime_number(13)"
   ]
  },
  {
   "cell_type": "markdown",
   "id": "ddb1a9b7",
   "metadata": {},
   "source": [
    "# Exception Handling"
   ]
  },
  {
   "cell_type": "code",
   "execution_count": 62,
   "id": "55fa728c",
   "metadata": {},
   "outputs": [],
   "source": [
    "def fun(x,y):\n",
    "    return x/y"
   ]
  },
  {
   "cell_type": "code",
   "execution_count": 60,
   "id": "f38d3268",
   "metadata": {},
   "outputs": [
    {
     "data": {
      "text/plain": [
       "2.0"
      ]
     },
     "execution_count": 60,
     "metadata": {},
     "output_type": "execute_result"
    }
   ],
   "source": [
    "fun(20,10)"
   ]
  },
  {
   "cell_type": "code",
   "execution_count": 53,
   "id": "fceafdef",
   "metadata": {},
   "outputs": [
    {
     "ename": "ZeroDivisionError",
     "evalue": "division by zero",
     "output_type": "error",
     "traceback": [
      "\u001b[1;31m---------------------------------------------------------------------------\u001b[0m",
      "\u001b[1;31mZeroDivisionError\u001b[0m                         Traceback (most recent call last)",
      "\u001b[1;32m~\\AppData\\Local\\Temp\\ipykernel_14216\\2087467601.py\u001b[0m in \u001b[0;36m<module>\u001b[1;34m\u001b[0m\n\u001b[0;32m      1\u001b[0m \u001b[1;31m#Zero Division Error\u001b[0m\u001b[1;33m\u001b[0m\u001b[1;33m\u001b[0m\u001b[0m\n\u001b[1;32m----> 2\u001b[1;33m \u001b[0mfun\u001b[0m\u001b[1;33m(\u001b[0m\u001b[1;36m20\u001b[0m\u001b[1;33m,\u001b[0m\u001b[1;36m0\u001b[0m\u001b[1;33m)\u001b[0m\u001b[1;33m\u001b[0m\u001b[1;33m\u001b[0m\u001b[0m\n\u001b[0m",
      "\u001b[1;32m~\\AppData\\Local\\Temp\\ipykernel_14216\\3407487092.py\u001b[0m in \u001b[0;36mfun\u001b[1;34m(x, y)\u001b[0m\n\u001b[0;32m      1\u001b[0m \u001b[1;32mdef\u001b[0m \u001b[0mfun\u001b[0m\u001b[1;33m(\u001b[0m\u001b[0mx\u001b[0m\u001b[1;33m,\u001b[0m\u001b[0my\u001b[0m\u001b[1;33m)\u001b[0m\u001b[1;33m:\u001b[0m\u001b[1;33m\u001b[0m\u001b[1;33m\u001b[0m\u001b[0m\n\u001b[1;32m----> 2\u001b[1;33m     \u001b[1;32mreturn\u001b[0m \u001b[0mx\u001b[0m\u001b[1;33m/\u001b[0m\u001b[0my\u001b[0m\u001b[1;33m\u001b[0m\u001b[1;33m\u001b[0m\u001b[0m\n\u001b[0m",
      "\u001b[1;31mZeroDivisionError\u001b[0m: division by zero"
     ]
    }
   ],
   "source": [
    "#Zero Division Error\n",
    "fun(20,0)"
   ]
  },
  {
   "cell_type": "code",
   "execution_count": 54,
   "id": "64b19869",
   "metadata": {},
   "outputs": [
    {
     "ename": "ZeroDivisionError",
     "evalue": "division by zero",
     "output_type": "error",
     "traceback": [
      "\u001b[1;31m---------------------------------------------------------------------------\u001b[0m",
      "\u001b[1;31mZeroDivisionError\u001b[0m                         Traceback (most recent call last)",
      "\u001b[1;32m~\\AppData\\Local\\Temp\\ipykernel_14216\\2076796633.py\u001b[0m in \u001b[0;36m<module>\u001b[1;34m\u001b[0m\n\u001b[0;32m      1\u001b[0m \u001b[0mx1\u001b[0m \u001b[1;33m=\u001b[0m \u001b[1;36m10\u001b[0m\u001b[1;33m\u001b[0m\u001b[1;33m\u001b[0m\u001b[0m\n\u001b[0;32m      2\u001b[0m \u001b[0mx2\u001b[0m \u001b[1;33m=\u001b[0m \u001b[1;36m20\u001b[0m\u001b[1;33m\u001b[0m\u001b[1;33m\u001b[0m\u001b[0m\n\u001b[1;32m----> 3\u001b[1;33m \u001b[0mx3\u001b[0m \u001b[1;33m=\u001b[0m \u001b[1;36m20\u001b[0m\u001b[1;33m/\u001b[0m\u001b[1;36m0\u001b[0m\u001b[1;33m\u001b[0m\u001b[1;33m\u001b[0m\u001b[0m\n\u001b[0m\u001b[0;32m      4\u001b[0m \u001b[0mx4\u001b[0m \u001b[1;33m=\u001b[0m \u001b[1;36m23\u001b[0m\u001b[1;33m\u001b[0m\u001b[1;33m\u001b[0m\u001b[0m\n\u001b[0;32m      5\u001b[0m \u001b[1;31m#x1, x2 is stored in jmemory but from x3 it is not stored\u001b[0m\u001b[1;33m\u001b[0m\u001b[1;33m\u001b[0m\u001b[0m\n",
      "\u001b[1;31mZeroDivisionError\u001b[0m: division by zero"
     ]
    }
   ],
   "source": [
    "x1 = 10\n",
    "x2 = 20\n",
    "x3 = 20/0\n",
    "x4 = 23\n",
    "#x1, x2 is stored in jmemory but from x3 it is not stored"
   ]
  },
  {
   "cell_type": "code",
   "execution_count": 57,
   "id": "6fbcae81",
   "metadata": {},
   "outputs": [],
   "source": [
    "x1 = 10\n",
    "x2 = 20\n",
    "try:\n",
    "    x3 = 20/0\n",
    "except:\n",
    "    x3 = 0\n",
    "x4 = 50"
   ]
  },
  {
   "cell_type": "code",
   "execution_count": 58,
   "id": "f6e33fe4",
   "metadata": {},
   "outputs": [
    {
     "data": {
      "text/plain": [
       "0"
      ]
     },
     "execution_count": 58,
     "metadata": {},
     "output_type": "execute_result"
    }
   ],
   "source": [
    "x3"
   ]
  },
  {
   "cell_type": "code",
   "execution_count": 86,
   "id": "903fc3dd",
   "metadata": {},
   "outputs": [],
   "source": [
    "def fun(x,y):\n",
    "    try:\n",
    "        x = x/y\n",
    "    except:\n",
    "        return \"We found an error\""
   ]
  },
  {
   "cell_type": "code",
   "execution_count": 87,
   "id": "56d4d8c0",
   "metadata": {},
   "outputs": [
    {
     "data": {
      "text/plain": [
       "'We found an error'"
      ]
     },
     "execution_count": 87,
     "metadata": {},
     "output_type": "execute_result"
    }
   ],
   "source": [
    "fun(23,0)"
   ]
  },
  {
   "cell_type": "markdown",
   "id": "7cdaf26d",
   "metadata": {},
   "source": [
    "# Recursion"
   ]
  },
  {
   "cell_type": "code",
   "execution_count": 95,
   "id": "cdf8ab3b",
   "metadata": {},
   "outputs": [],
   "source": [
    "def fun(x):\n",
    "    if x==0:\n",
    "        return 1\n",
    "    else:\n",
    "        return fun(x-1)"
   ]
  },
  {
   "cell_type": "code",
   "execution_count": 97,
   "id": "a5a07162",
   "metadata": {},
   "outputs": [
    {
     "data": {
      "text/plain": [
       "1"
      ]
     },
     "execution_count": 97,
     "metadata": {},
     "output_type": "execute_result"
    }
   ],
   "source": [
    "fun(5)"
   ]
  },
  {
   "cell_type": "code",
   "execution_count": 98,
   "id": "a293496f",
   "metadata": {},
   "outputs": [],
   "source": [
    "#fun(5)-->fun(4)-->fun(3)-->fun(2)-->fun(1)--.fun(0)-->1"
   ]
  },
  {
   "cell_type": "code",
   "execution_count": 99,
   "id": "ca2b1eee",
   "metadata": {},
   "outputs": [],
   "source": [
    "def fun(x):\n",
    "    if x==0:\n",
    "        return 1\n",
    "    else:\n",
    "        return fun(x-1)+1"
   ]
  },
  {
   "cell_type": "code",
   "execution_count": 100,
   "id": "390da4dd",
   "metadata": {},
   "outputs": [
    {
     "data": {
      "text/plain": [
       "6"
      ]
     },
     "execution_count": 100,
     "metadata": {},
     "output_type": "execute_result"
    }
   ],
   "source": [
    "fun(5)"
   ]
  },
  {
   "cell_type": "code",
   "execution_count": 101,
   "id": "a9a7bd90",
   "metadata": {},
   "outputs": [],
   "source": [
    "#fun(5)-->fun(4)+1-->fun(3)+2-->fun(2)+3-->fun(1)+4-->fun(0)+5-->1+5=6"
   ]
  },
  {
   "cell_type": "code",
   "execution_count": null,
   "id": "f9bb11f3",
   "metadata": {},
   "outputs": [],
   "source": [
    "def fun(x):\n",
    "    if x==1:\n",
    "        return 1\n",
    "    else:\n",
    "        return fun(x-1)*x"
   ]
  },
  {
   "cell_type": "code",
   "execution_count": null,
   "id": "e638bedf",
   "metadata": {},
   "outputs": [],
   "source": [
    "fun(5)"
   ]
  },
  {
   "cell_type": "code",
   "execution_count": null,
   "id": "3c849a99",
   "metadata": {},
   "outputs": [],
   "source": [
    "def fun(x):\n",
    "    if x==1:\n",
    "        return 1\n",
    "    else:\n",
    "        return fun(x-1)*x"
   ]
  },
  {
   "cell_type": "code",
   "execution_count": null,
   "id": "92969006",
   "metadata": {},
   "outputs": [],
   "source": [
    "#Fibonacci Series"
   ]
  },
  {
   "cell_type": "code",
   "execution_count": 111,
   "id": "f52b2d01",
   "metadata": {},
   "outputs": [
    {
     "data": {
      "text/plain": [
       "(0, 1, 1, 2, 3, 5)"
      ]
     },
     "execution_count": 111,
     "metadata": {},
     "output_type": "execute_result"
    }
   ],
   "source": [
    "0,1,1,2,3,5"
   ]
  },
  {
   "cell_type": "markdown",
   "id": "014a387b",
   "metadata": {},
   "source": [
    "# Iterator object"
   ]
  },
  {
   "cell_type": "code",
   "execution_count": 114,
   "id": "b3e615f1",
   "metadata": {},
   "outputs": [
    {
     "data": {
      "text/plain": [
       "[1, 2, 3, 4, 5, 6, 7, 8, 9]"
      ]
     },
     "execution_count": 114,
     "metadata": {},
     "output_type": "execute_result"
    }
   ],
   "source": [
    "l = [i for i in range(1,10)]\n",
    "l"
   ]
  },
  {
   "cell_type": "code",
   "execution_count": 128,
   "id": "3446f68c",
   "metadata": {},
   "outputs": [],
   "source": [
    "l = (i for i in range(1,10))"
   ]
  },
  {
   "cell_type": "code",
   "execution_count": 126,
   "id": "1800a99b",
   "metadata": {},
   "outputs": [
    {
     "data": {
      "text/plain": [
       "8"
      ]
     },
     "execution_count": 126,
     "metadata": {},
     "output_type": "execute_result"
    }
   ],
   "source": [
    "next(l)"
   ]
  },
  {
   "cell_type": "code",
   "execution_count": 129,
   "id": "6a58ce9e",
   "metadata": {},
   "outputs": [
    {
     "data": {
      "text/plain": [
       "[1, 2, 3, 4, 5, 6, 7, 8, 9]"
      ]
     },
     "execution_count": 129,
     "metadata": {},
     "output_type": "execute_result"
    }
   ],
   "source": [
    "list(l)"
   ]
  },
  {
   "cell_type": "code",
   "execution_count": 130,
   "id": "15faf0bf",
   "metadata": {},
   "outputs": [],
   "source": [
    "#map function also produces iterator func"
   ]
  },
  {
   "cell_type": "code",
   "execution_count": 131,
   "id": "3c9fb56c",
   "metadata": {},
   "outputs": [],
   "source": [
    "def fun(x):\n",
    "    return x**2"
   ]
  },
  {
   "cell_type": "code",
   "execution_count": 137,
   "id": "bfedd16f",
   "metadata": {},
   "outputs": [],
   "source": [
    "output=map(fun,(1,10,23))"
   ]
  },
  {
   "cell_type": "code",
   "execution_count": 135,
   "id": "1806cc88",
   "metadata": {},
   "outputs": [
    {
     "data": {
      "text/plain": [
       "529"
      ]
     },
     "execution_count": 135,
     "metadata": {},
     "output_type": "execute_result"
    }
   ],
   "source": [
    "next(output)"
   ]
  },
  {
   "cell_type": "code",
   "execution_count": 138,
   "id": "4b02a66c",
   "metadata": {},
   "outputs": [
    {
     "data": {
      "text/plain": [
       "[1, 100, 529]"
      ]
     },
     "execution_count": 138,
     "metadata": {},
     "output_type": "execute_result"
    }
   ],
   "source": [
    "list(output)"
   ]
  },
  {
   "cell_type": "code",
   "execution_count": 139,
   "id": "8eceb873",
   "metadata": {},
   "outputs": [],
   "source": [
    "#list to iteratable object\n",
    "l = [1,10,45]\n",
    "l = iter(l)"
   ]
  },
  {
   "cell_type": "code",
   "execution_count": 140,
   "id": "1b074756",
   "metadata": {},
   "outputs": [
    {
     "data": {
      "text/plain": [
       "1"
      ]
     },
     "execution_count": 140,
     "metadata": {},
     "output_type": "execute_result"
    }
   ],
   "source": [
    "next(l)"
   ]
  },
  {
   "cell_type": "markdown",
   "id": "c1e562dd",
   "metadata": {},
   "source": [
    "# Local and global variable"
   ]
  },
  {
   "cell_type": "code",
   "execution_count": null,
   "id": "b3b883ee",
   "metadata": {},
   "outputs": [],
   "source": [
    "#Local variable: A variable inside a function which does not old goosd outside the function\n",
    "#Global variable"
   ]
  },
  {
   "cell_type": "code",
   "execution_count": 141,
   "id": "bf95002c",
   "metadata": {},
   "outputs": [],
   "source": [
    "#Local variable\n",
    "def fun(x):\n",
    "    s=10\n",
    "    return x+s"
   ]
  },
  {
   "cell_type": "code",
   "execution_count": 142,
   "id": "d7bb77a5",
   "metadata": {},
   "outputs": [
    {
     "data": {
      "text/plain": [
       "15"
      ]
     },
     "execution_count": 142,
     "metadata": {},
     "output_type": "execute_result"
    }
   ],
   "source": [
    "fun(5)"
   ]
  },
  {
   "cell_type": "code",
   "execution_count": 143,
   "id": "896a30e5",
   "metadata": {},
   "outputs": [
    {
     "ename": "NameError",
     "evalue": "name 's' is not defined",
     "output_type": "error",
     "traceback": [
      "\u001b[1;31m---------------------------------------------------------------------------\u001b[0m",
      "\u001b[1;31mNameError\u001b[0m                                 Traceback (most recent call last)",
      "\u001b[1;32m~\\AppData\\Local\\Temp\\ipykernel_14216\\1028141915.py\u001b[0m in \u001b[0;36m<module>\u001b[1;34m\u001b[0m\n\u001b[1;32m----> 1\u001b[1;33m \u001b[0ms\u001b[0m\u001b[1;33m\u001b[0m\u001b[1;33m\u001b[0m\u001b[0m\n\u001b[0m",
      "\u001b[1;31mNameError\u001b[0m: name 's' is not defined"
     ]
    }
   ],
   "source": [
    "s #s is a local variable "
   ]
  },
  {
   "cell_type": "code",
   "execution_count": 146,
   "id": "ca5aaae7",
   "metadata": {},
   "outputs": [
    {
     "data": {
      "text/plain": [
       "10"
      ]
     },
     "execution_count": 146,
     "metadata": {},
     "output_type": "execute_result"
    }
   ],
   "source": [
    "#Local variable outside a function\n",
    "s= 10\n",
    "def my_fun(x):\n",
    "    return x+s\n",
    "s"
   ]
  },
  {
   "cell_type": "code",
   "execution_count": 159,
   "id": "006b7c08",
   "metadata": {},
   "outputs": [],
   "source": [
    "s = 1\n",
    "def func(x):\n",
    "    global s \n",
    "    s = 10\n",
    "    return x+s"
   ]
  },
  {
   "cell_type": "code",
   "execution_count": 160,
   "id": "90985698",
   "metadata": {},
   "outputs": [
    {
     "data": {
      "text/plain": [
       "14"
      ]
     },
     "execution_count": 160,
     "metadata": {},
     "output_type": "execute_result"
    }
   ],
   "source": [
    "func(4)"
   ]
  },
  {
   "cell_type": "code",
   "execution_count": 161,
   "id": "1b879de3",
   "metadata": {},
   "outputs": [
    {
     "data": {
      "text/plain": [
       "10"
      ]
     },
     "execution_count": 161,
     "metadata": {},
     "output_type": "execute_result"
    }
   ],
   "source": [
    "s"
   ]
  },
  {
   "cell_type": "markdown",
   "id": "32dfb704",
   "metadata": {},
   "source": [
    "# Questions"
   ]
  },
  {
   "cell_type": "code",
   "execution_count": 162,
   "id": "eeb20f4e",
   "metadata": {},
   "outputs": [
    {
     "data": {
      "text/plain": [
       "[1, 2, 3, [1, 2, 3]]"
      ]
     },
     "execution_count": 162,
     "metadata": {},
     "output_type": "execute_result"
    }
   ],
   "source": [
    "l = [1,2,3]\n",
    "l.append([1,2,3])\n",
    "l"
   ]
  },
  {
   "cell_type": "code",
   "execution_count": 164,
   "id": "c7c910d5",
   "metadata": {},
   "outputs": [
    {
     "data": {
      "text/plain": [
       "[1, 2, 3, [1, 2, 3], [...]]"
      ]
     },
     "execution_count": 164,
     "metadata": {},
     "output_type": "execute_result"
    }
   ],
   "source": [
    "#self append\n",
    "l.append(l)\n",
    "l"
   ]
  },
  {
   "cell_type": "code",
   "execution_count": 165,
   "id": "2efdcbba",
   "metadata": {},
   "outputs": [],
   "source": [
    "#Difference: a.append(b)\n",
    "#a.append(a)\n",
    "#a = [1,2,3,[1,2,3,[1,2,3,a]]].....\n"
   ]
  },
  {
   "cell_type": "code",
   "execution_count": 166,
   "id": "dc312925",
   "metadata": {},
   "outputs": [],
   "source": [
    "#Dictionary\n",
    "a = {\n",
    "    \"key1\":10,\n",
    "    \"key2\":20\n",
    "}\n"
   ]
  },
  {
   "cell_type": "code",
   "execution_count": 167,
   "id": "37fe7b0f",
   "metadata": {},
   "outputs": [],
   "source": [
    "a[\"key3\"]=a"
   ]
  },
  {
   "cell_type": "code",
   "execution_count": 168,
   "id": "5c2764ef",
   "metadata": {},
   "outputs": [
    {
     "data": {
      "text/plain": [
       "{'key1': 10, 'key2': 20, 'key3': {...}}"
      ]
     },
     "execution_count": 168,
     "metadata": {},
     "output_type": "execute_result"
    }
   ],
   "source": [
    "a"
   ]
  },
  {
   "cell_type": "code",
   "execution_count": 169,
   "id": "57526721",
   "metadata": {},
   "outputs": [],
   "source": [
    "#Fibonacci series"
   ]
  },
  {
   "cell_type": "code",
   "execution_count": 170,
   "id": "38ff031d",
   "metadata": {},
   "outputs": [
    {
     "data": {
      "text/plain": [
       "(0, 1, 1, 2, 3, 5, 8)"
      ]
     },
     "execution_count": 170,
     "metadata": {},
     "output_type": "execute_result"
    }
   ],
   "source": [
    "0,1,1,2,3,5,8"
   ]
  },
  {
   "cell_type": "code",
   "execution_count": 171,
   "id": "780ec8a0",
   "metadata": {},
   "outputs": [],
   "source": [
    "def fibonacci(n):\n",
    "    if n == 1:\n",
    "        return 0\n",
    "    if n == 2:\n",
    "        return 1\n",
    "    else:\n",
    "        return fibonacci(n-1)+fibonacci(n-2)"
   ]
  },
  {
   "cell_type": "code",
   "execution_count": 172,
   "id": "dd810620",
   "metadata": {},
   "outputs": [
    {
     "data": {
      "text/plain": [
       "13"
      ]
     },
     "execution_count": 172,
     "metadata": {},
     "output_type": "execute_result"
    }
   ],
   "source": [
    "fibonacci(8)"
   ]
  },
  {
   "cell_type": "code",
   "execution_count": 175,
   "id": "450a389c",
   "metadata": {},
   "outputs": [],
   "source": [
    "#TO KNOW FIBONACCI PRESENT in the range 1 to 10,till number 9\n",
    "output = map(fibonacci,range(1,10))"
   ]
  },
  {
   "cell_type": "code",
   "execution_count": 174,
   "id": "4ab1937b",
   "metadata": {},
   "outputs": [
    {
     "data": {
      "text/plain": [
       "[0, 1, 1, 2, 3, 5, 8, 13, 21]"
      ]
     },
     "execution_count": 174,
     "metadata": {},
     "output_type": "execute_result"
    }
   ],
   "source": [
    "list(output)"
   ]
  },
  {
   "cell_type": "code",
   "execution_count": null,
   "id": "0f1e4f3c",
   "metadata": {},
   "outputs": [],
   "source": []
  }
 ],
 "metadata": {
  "kernelspec": {
   "display_name": "Python 3 (ipykernel)",
   "language": "python",
   "name": "python3"
  },
  "language_info": {
   "codemirror_mode": {
    "name": "ipython",
    "version": 3
   },
   "file_extension": ".py",
   "mimetype": "text/x-python",
   "name": "python",
   "nbconvert_exporter": "python",
   "pygments_lexer": "ipython3",
   "version": "3.9.13"
  }
 },
 "nbformat": 4,
 "nbformat_minor": 5
}
