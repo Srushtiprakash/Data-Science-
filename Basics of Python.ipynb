{
 "cells": [
  {
   "cell_type": "markdown",
   "id": "52a3591b",
   "metadata": {},
   "source": [
    "# For loop\n"
   ]
  },
  {
   "cell_type": "code",
   "execution_count": 6,
   "id": "815b09c8",
   "metadata": {},
   "outputs": [
    {
     "data": {
      "text/plain": [
       "[2, 11, 12, 13, 15]"
      ]
     },
     "execution_count": 6,
     "metadata": {},
     "output_type": "execute_result"
    }
   ],
   "source": [
    "a = [1,10,11,12,14]\n",
    "b = []\n",
    "\n",
    "for i in a:\n",
    "    b.append(i+1)\n",
    "b"
   ]
  },
  {
   "cell_type": "code",
   "execution_count": 7,
   "id": "d0ef09d2",
   "metadata": {},
   "outputs": [
    {
     "data": {
      "text/plain": [
       "45"
      ]
     },
     "execution_count": 7,
     "metadata": {},
     "output_type": "execute_result"
    }
   ],
   "source": [
    "#sum of the numbers of the list\n",
    "l = [1,9,23,12]\n",
    "b = 0\n",
    "for i in l:\n",
    "    b = b + i\n",
    "b\n",
    "    "
   ]
  },
  {
   "cell_type": "code",
   "execution_count": 8,
   "id": "01d85605",
   "metadata": {},
   "outputs": [
    {
     "data": {
      "text/plain": [
       "2484"
      ]
     },
     "execution_count": 8,
     "metadata": {},
     "output_type": "execute_result"
    }
   ],
   "source": [
    "#multiply the numbers in the list\n",
    "l = [1,9,23,12]\n",
    "b = 1\n",
    "for i in l:\n",
    "    b = b * i\n",
    "b"
   ]
  },
  {
   "cell_type": "markdown",
   "id": "c9293266",
   "metadata": {},
   "source": [
    "# if - else condition"
   ]
  },
  {
   "cell_type": "code",
   "execution_count": 10,
   "id": "7b48bfa7",
   "metadata": {},
   "outputs": [
    {
     "name": "stdout",
     "output_type": "stream",
     "text": [
      "yes\n"
     ]
    }
   ],
   "source": [
    "a = 10\n",
    "if a == 10:\n",
    "    print(\"yes\")\n",
    "else:\n",
    "    print(\"no\")"
   ]
  },
  {
   "cell_type": "code",
   "execution_count": 11,
   "id": "29de4e6b",
   "metadata": {},
   "outputs": [
    {
     "name": "stdout",
     "output_type": "stream",
     "text": [
      "a is greater than 10\n"
     ]
    }
   ],
   "source": [
    "a = 12\n",
    "if a > 10:\n",
    "    print(\"a is greater than 10\")\n",
    "elif a > 7:\n",
    "    print(\"a is greater than 7\")\n",
    "else:\n",
    "    print(\"a is smaller than 8\")"
   ]
  },
  {
   "cell_type": "code",
   "execution_count": 25,
   "id": "5ceb7f19",
   "metadata": {},
   "outputs": [
    {
     "name": "stdout",
     "output_type": "stream",
     "text": [
      "[10, 12] [11, 13, 15, 19, 21, 89] [67.3, 90.1]\n"
     ]
    }
   ],
   "source": [
    "l = [10,11,13,15,12,19,21,89, 67.3,90.1]\n",
    "\n",
    "l1 = []\n",
    "l2 = []\n",
    "l3 = []\n",
    "for i in l:\n",
    "    if i%2 == 0:\n",
    "        l1.append(i)\n",
    "    elif i%2 == 1:\n",
    "        l2.append(i)\n",
    "    elif i == float(i):\n",
    "        l3.append(i)\n",
    "print(l1,l2,l3)\n",
    "    "
   ]
  },
  {
   "cell_type": "code",
   "execution_count": 29,
   "id": "c82f484e",
   "metadata": {},
   "outputs": [
    {
     "data": {
      "text/plain": [
       "[1, 5, 25]"
      ]
     },
     "execution_count": 29,
     "metadata": {},
     "output_type": "execute_result"
    }
   ],
   "source": [
    "number = 25\n",
    "b = [] \n",
    "for i in range(1, 1+number):\n",
    "     if number%i ==0:\n",
    "             b.append(i)\n",
    "b\n"
   ]
  },
  {
   "cell_type": "code",
   "execution_count": 30,
   "id": "e6ab375d",
   "metadata": {},
   "outputs": [
    {
     "data": {
      "text/plain": [
       "[1, 3, 5, 15, 823, 2469, 4115, 12345]"
      ]
     },
     "execution_count": 30,
     "metadata": {},
     "output_type": "execute_result"
    }
   ],
   "source": [
    "number = 12345\n",
    "b = []\n",
    "for i in range(1,number+1):\n",
    "    if number%i == 0:\n",
    "        b.append(i)\n",
    "b"
   ]
  },
  {
   "cell_type": "code",
   "execution_count": 76,
   "id": "8a42d760",
   "metadata": {},
   "outputs": [
    {
     "name": "stdout",
     "output_type": "stream",
     "text": [
      "Give a number12342\n",
      "Give a number2244\n"
     ]
    },
    {
     "data": {
      "text/plain": [
       "{1, 2}"
      ]
     },
     "execution_count": 76,
     "metadata": {},
     "output_type": "execute_result"
    }
   ],
   "source": [
    "#common divisors\n",
    "num1 = int(input(\"Give a number1\"))\n",
    "num2 = int(input(\"Give a number2\"))\n",
    "factors1=[]\n",
    "factors2=[]\n",
    "for i in range(1,num1+1):\n",
    "    if num1%i == 0:\n",
    "        factors1.append(i)\n",
    "for i in range (1,num2+1):\n",
    "    if num2%i == 0:\n",
    "        factors2.append(i)\n",
    "fac = set(factors1) & set(factors2)\n",
    "fac   \n"
   ]
  },
  {
   "cell_type": "markdown",
   "id": "b15bdcf7",
   "metadata": {},
   "source": [
    "# Functions"
   ]
  },
  {
   "cell_type": "code",
   "execution_count": 79,
   "id": "972eca33",
   "metadata": {},
   "outputs": [],
   "source": [
    "def get_factors(number):\n",
    "    l=[]\n",
    "    for i in range(1,number+1):\n",
    "        if number%i == 0:\n",
    "            l.append(i)\n",
    "    print(l)"
   ]
  },
  {
   "cell_type": "code",
   "execution_count": 80,
   "id": "ef55ace4",
   "metadata": {},
   "outputs": [
    {
     "name": "stdout",
     "output_type": "stream",
     "text": [
      "[1, 2, 3, 6, 23, 46, 69, 138, 331, 662, 993, 1986, 7613, 15226, 22839, 45678]\n"
     ]
    }
   ],
   "source": [
    "get_factors(45678)"
   ]
  },
  {
   "cell_type": "code",
   "execution_count": 90,
   "id": "eda34536",
   "metadata": {},
   "outputs": [],
   "source": [
    "def prime(number):\n",
    "    l=[]\n",
    "    for i in range(1,number+1):\n",
    "        if number%i == 0:\n",
    "            l.append(i)\n",
    "    if len(l) == 2:\n",
    "        print(\"It is a prime number\")\n",
    "    else:\n",
    "        print(\"It is not a prime number\")"
   ]
  },
  {
   "cell_type": "code",
   "execution_count": 91,
   "id": "eba4737c",
   "metadata": {},
   "outputs": [
    {
     "name": "stdout",
     "output_type": "stream",
     "text": [
      "It is a prime number\n"
     ]
    }
   ],
   "source": [
    "prime(23)"
   ]
  },
  {
   "cell_type": "code",
   "execution_count": 92,
   "id": "4f2f3e4b",
   "metadata": {},
   "outputs": [
    {
     "name": "stdout",
     "output_type": "stream",
     "text": [
      "It is not a prime number\n"
     ]
    }
   ],
   "source": [
    "prime(27)"
   ]
  },
  {
   "cell_type": "code",
   "execution_count": 3,
   "id": "7f55e4b6",
   "metadata": {},
   "outputs": [],
   "source": [
    "\n",
    "def gcd(num1,num2):\n",
    "    factors1=[]\n",
    "    factors2=[]\n",
    "    for i in range(1,num1+1):\n",
    "        if num1%i == 0:\n",
    "            factors1.append(i)\n",
    "    for i in range (1,num2+1):\n",
    "        if num2%i == 0:\n",
    "            factors2.append(i)\n",
    "        \n",
    "    fac = set(factors1) & set(factors2)\n",
    "    return max(fac)\n"
   ]
  },
  {
   "cell_type": "code",
   "execution_count": 4,
   "id": "96173a7b",
   "metadata": {},
   "outputs": [
    {
     "data": {
      "text/plain": [
       "6"
      ]
     },
     "execution_count": 4,
     "metadata": {},
     "output_type": "execute_result"
    }
   ],
   "source": [
    "gcd(24,6)"
   ]
  },
  {
   "cell_type": "code",
   "execution_count": null,
   "id": "6b2c3a0e",
   "metadata": {},
   "outputs": [],
   "source": []
  }
 ],
 "metadata": {
  "kernelspec": {
   "display_name": "Python 3 (ipykernel)",
   "language": "python",
   "name": "python3"
  },
  "language_info": {
   "codemirror_mode": {
    "name": "ipython",
    "version": 3
   },
   "file_extension": ".py",
   "mimetype": "text/x-python",
   "name": "python",
   "nbconvert_exporter": "python",
   "pygments_lexer": "ipython3",
   "version": "3.9.13"
  }
 },
 "nbformat": 4,
 "nbformat_minor": 5
}
